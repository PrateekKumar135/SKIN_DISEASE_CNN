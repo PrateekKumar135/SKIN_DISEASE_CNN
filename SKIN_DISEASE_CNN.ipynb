{
  "nbformat": 4,
  "nbformat_minor": 0,
  "metadata": {
    "colab": {
      "provenance": [],
      "authorship_tag": "ABX9TyPuLXMDCK733HHB1rmzhBKk",
      "include_colab_link": true
    },
    "kernelspec": {
      "name": "python3",
      "display_name": "Python 3"
    },
    "language_info": {
      "name": "python"
    }
  },
  "cells": [
    {
      "cell_type": "markdown",
      "metadata": {
        "id": "view-in-github",
        "colab_type": "text"
      },
      "source": [
        "<a href=\"https://colab.research.google.com/github/PrateekKumar135/SKIN_DISEASE_CNN/blob/main/SKIN_DISEASE_CNN.ipynb\" target=\"_parent\"><img src=\"https://colab.research.google.com/assets/colab-badge.svg\" alt=\"Open In Colab\"/></a>"
      ]
    },
    {
      "cell_type": "code",
      "source": [
        "!mkdir -p ~/.kaggle\n",
        "!cp kaggle.json ~/.kaggle/\n",
        "# !chmod 600 ~/.kaggle/kaggle.json"
      ],
      "metadata": {
        "id": "nCtxG2yVXhfI"
      },
      "execution_count": 17,
      "outputs": []
    },
    {
      "cell_type": "code",
      "execution_count": 18,
      "metadata": {
        "colab": {
          "base_uri": "https://localhost:8080/"
        },
        "id": "pqVmM8PmWzXb",
        "outputId": "da7d4725-bde5-4616-f125-04238a3a3092"
      },
      "outputs": [
        {
          "output_type": "stream",
          "name": "stdout",
          "text": [
            "Warning: Your Kaggle API key is readable by other users on this system! To fix this, you can run 'chmod 600 /root/.kaggle/kaggle.json'\n",
            "Dataset URL: https://www.kaggle.com/datasets/pritpal2873/multiple-skin-disease-detection-and-classification\n",
            "License(s): apache-2.0\n",
            "multiple-skin-disease-detection-and-classification.zip: Skipping, found more recently modified local copy (use --force to force download)\n"
          ]
        }
      ],
      "source": [
        "!kaggle datasets download -d pritpal2873/multiple-skin-disease-detection-and-classification"
      ]
    },
    {
      "cell_type": "code",
      "source": [
        "import zipfile\n",
        "zip_ref = zipfile.ZipFile('/content/multiple-skin-disease-detection-and-classification.zip', 'r')\n",
        "zip_ref.extractall('/content')\n",
        "zip_ref.close()"
      ],
      "metadata": {
        "id": "LcqHTdcEW3J-"
      },
      "execution_count": 19,
      "outputs": []
    },
    {
      "cell_type": "code",
      "source": [
        "import tensorflow as tf\n",
        "from tensorflow import keras\n",
        "from tensorflow.keras import Sequential, models, layers\n",
        "from tensorflow.keras.layers import Dense, Flatten, Conv2D, MaxPooling2D,Dropout\n",
        "from tensorflow.keras.preprocessing.image import ImageDataGenerator\n",
        "# from tensorflow.keras.optimizers import Adam\n",
        "# from tensorflow.keras.callbacks import EarlyStopping\n",
        "# from tensorflow.keras.applications.vgg16 import VGG16\n",
        "import matplotlib.pyplot as plt"
      ],
      "metadata": {
        "id": "WPpAbHBlW3Ue"
      },
      "execution_count": 20,
      "outputs": []
    },
    {
      "cell_type": "code",
      "source": [
        "import os\n",
        "import shutil\n",
        "from sklearn.model_selection import train_test_split\n",
        "\n",
        "# Define the paths\n",
        "source_dir = '/content/Skin Cancer Dataset'  # Original dataset directory\n",
        "train_dir = '/content/train_images'     # Directory where train data will be saved\n",
        "test_dir = '/content/test_images'       # Directory where test data will be saved\n",
        "\n",
        "# Create train and test directories if they don't exist\n",
        "os.makedirs(train_dir, exist_ok=True)\n",
        "os.makedirs(test_dir, exist_ok=True)\n",
        "# Iterate over each class folder in the source directory\n",
        "for class_folder in os.listdir(source_dir):\n",
        "    class_path = os.path.join(source_dir, class_folder)\n",
        "\n",
        "    if os.path.isdir(class_path):  # Ensure it's a directory\n",
        "        # List all image files in the class directory\n",
        "        images = os.listdir(class_path)\n",
        "\n",
        "        # Split images into train and test sets\n",
        "        train_images, test_images = train_test_split(images, test_size=0.2)\n",
        "\n",
        "        # Create corresponding class folders in train and test directories\n",
        "        os.makedirs(os.path.join(train_dir, class_folder), exist_ok=True)\n",
        "        os.makedirs(os.path.join(test_dir, class_folder), exist_ok=True)\n",
        "\n",
        "        # Move the images to the respective train/test directories\n",
        "        for image in train_images:\n",
        "            src = os.path.join(class_path, image)\n",
        "            dst = os.path.join(train_dir, class_folder, image)\n",
        "            shutil.move(src, dst)\n",
        "\n",
        "        for image in test_images:\n",
        "            src = os.path.join(class_path, image)\n",
        "            dst = os.path.join(test_dir, class_folder, image)\n",
        "            shutil.move(src, dst)\n",
        "\n",
        "print(\"Dataset split into train and test folders successfully!\")"
      ],
      "metadata": {
        "colab": {
          "base_uri": "https://localhost:8080/"
        },
        "id": "QPlNamGyio5p",
        "outputId": "ded1b15b-6720-4601-b396-fc00c8a5c73d"
      },
      "execution_count": 21,
      "outputs": [
        {
          "output_type": "stream",
          "name": "stdout",
          "text": [
            "Dataset split into train and test folders successfully!\n"
          ]
        }
      ]
    },
    {
      "cell_type": "code",
      "source": [
        "names = ['Acitinic Keratosis','Basal Cell Carcinoma','Dermatofibroma','Melanoma','Nevus','Pigmented Benign Keratosis','Seborrheic Keratosis','Squamous Cell Carcinoma','Vascular Lesion']\n",
        "train_file = keras.utils.image_dataset_from_directory(\n",
        "    directory='/content/train_images',\n",
        "    labels=\"inferred\",\n",
        "    label_mode=\"categorical\",\n",
        "    class_names=names,\n",
        "    color_mode=\"rgba\",\n",
        "    batch_size=32,\n",
        "    image_size=(256, 256),\n",
        ")\n",
        "\n",
        "test_file = keras.utils.image_dataset_from_directory(\n",
        "    directory='/content/test_images',\n",
        "    labels=\"inferred\",\n",
        "    label_mode=\"categorical\",\n",
        "    class_names=names,\n",
        "    color_mode=\"rgba\",\n",
        "    batch_size=32,\n",
        "    image_size=(256, 256),\n",
        ")"
      ],
      "metadata": {
        "id": "ng6vMz7uW3V7",
        "colab": {
          "base_uri": "https://localhost:8080/"
        },
        "outputId": "5829cf2a-0d57-40d9-c7d8-76f4545c8da5"
      },
      "execution_count": 23,
      "outputs": [
        {
          "output_type": "stream",
          "name": "stdout",
          "text": [
            "Found 3938 files belonging to 9 classes.\n",
            "Found 1474 files belonging to 9 classes.\n"
          ]
        }
      ]
    },
    {
      "cell_type": "code",
      "source": [],
      "metadata": {
        "id": "g0Pem4LoW3Xn"
      },
      "execution_count": null,
      "outputs": []
    },
    {
      "cell_type": "code",
      "source": [],
      "metadata": {
        "id": "dRVX_h8uW3a8"
      },
      "execution_count": null,
      "outputs": []
    },
    {
      "cell_type": "code",
      "source": [],
      "metadata": {
        "id": "ncJEv0WNW3c0"
      },
      "execution_count": null,
      "outputs": []
    },
    {
      "cell_type": "code",
      "source": [],
      "metadata": {
        "id": "hIkPe6WwW3ey"
      },
      "execution_count": null,
      "outputs": []
    },
    {
      "cell_type": "code",
      "source": [],
      "metadata": {
        "id": "smeLJ4VtW3f_"
      },
      "execution_count": null,
      "outputs": []
    },
    {
      "cell_type": "code",
      "source": [],
      "metadata": {
        "id": "c7f8HJ0-W3hw"
      },
      "execution_count": null,
      "outputs": []
    },
    {
      "cell_type": "code",
      "source": [],
      "metadata": {
        "id": "BVNiXEhGW3jn"
      },
      "execution_count": null,
      "outputs": []
    },
    {
      "cell_type": "code",
      "source": [],
      "metadata": {
        "id": "kClrYGVTW3k6"
      },
      "execution_count": null,
      "outputs": []
    },
    {
      "cell_type": "code",
      "source": [],
      "metadata": {
        "id": "2da25OcmW3m5"
      },
      "execution_count": null,
      "outputs": []
    },
    {
      "cell_type": "code",
      "source": [],
      "metadata": {
        "id": "SQ4BNmKzW3qQ"
      },
      "execution_count": null,
      "outputs": []
    },
    {
      "cell_type": "code",
      "source": [],
      "metadata": {
        "id": "CV5dBlMdW3tr"
      },
      "execution_count": null,
      "outputs": []
    }
  ]
}